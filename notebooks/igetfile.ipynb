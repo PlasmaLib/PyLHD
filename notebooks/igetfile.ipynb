{
 "cells": [
  {
   "cell_type": "markdown",
   "metadata": {},
   "source": [
    "# Note\n",
    "\n",
    "In this notebook, I show how to download LHD analyzed data.\n",
    "\n",
    "Note that this only works within LHD-experiment-LAN"
   ]
  },
  {
   "cell_type": "markdown",
   "metadata": {},
   "source": [
    "# Importing some libraries"
   ]
  },
  {
   "cell_type": "code",
   "execution_count": 1,
   "metadata": {
    "collapsed": true
   },
   "outputs": [],
   "source": [
    "import numpy as np\n",
    "%matplotlib inline\n",
    "import matplotlib.pyplot as plt"
   ]
  },
  {
   "cell_type": "code",
   "execution_count": 2,
   "metadata": {
    "collapsed": true
   },
   "outputs": [],
   "source": [
    "import PyLHD"
   ]
  },
  {
   "cell_type": "markdown",
   "metadata": {},
   "source": [
    "# Download"
   ]
  },
  {
   "cell_type": "code",
   "execution_count": 3,
   "metadata": {
    "collapsed": true
   },
   "outputs": [],
   "source": [
    "# define some variables\n",
    "\n",
    "shotnum = 120724 # shotnumber\n",
    "diag = 'tsmap'   # diagname\n",
    "filename = 'tsmap.dat' # local filename "
   ]
  },
  {
   "cell_type": "code",
   "execution_count": 4,
   "metadata": {
    "collapsed": false
   },
   "outputs": [
    {
     "name": "stdout",
     "output_type": "stream",
     "text": [
      "data/tsmap/120000/120724/000001/tsmap@120724.dat.zip\n",
      "tsmap@120724.dat.zip\n"
     ]
    }
   ],
   "source": [
    "# actual download\n",
    "tsmap_filename = PyLHD.igetfile.igetfile(diag, shotnum, 1, filename)"
   ]
  },
  {
   "cell_type": "markdown",
   "metadata": {},
   "source": [
    "The resulting filename is"
   ]
  },
  {
   "cell_type": "code",
   "execution_count": 5,
   "metadata": {
    "collapsed": false
   },
   "outputs": [
    {
     "data": {
      "text/plain": [
       "'tsmap.dat'"
      ]
     },
     "execution_count": 5,
     "metadata": {},
     "output_type": "execute_result"
    }
   ],
   "source": [
    "tsmap_filename"
   ]
  },
  {
   "cell_type": "markdown",
   "metadata": {},
   "source": [
    "# Read the downloaded file.\n",
    "\n",
    "To read the analyzed data, use eg.load"
   ]
  },
  {
   "cell_type": "code",
   "execution_count": 6,
   "metadata": {
    "collapsed": true
   },
   "outputs": [],
   "source": [
    "tsmap = PyLHD.eg.load(tsmap_filename)"
   ]
  },
  {
   "cell_type": "code",
   "execution_count": 7,
   "metadata": {
    "collapsed": false
   },
   "outputs": [
    {
     "data": {
      "text/plain": [
       "<xarray.EGdata>\n",
       "Dimensions:           (R: 140, Time: 300)\n",
       "Coordinates:\n",
       "  * Time              (Time) float64 0.0 0.033 0.066 0.1 0.133 0.166 0.2 ...\n",
       "  * R                 (R) float64 2.422 2.448 2.474 2.5 2.525 2.551 2.576 ...\n",
       "Data variables:\n",
       "    Te                (Time, R) float64 0.017 0.012 0.006 0.014 0.015 0.033 ...\n",
       "    dTe               (Time, R) float64 0.357 0.009 0.005 0.003 0.001 0.002 ...\n",
       "    n_e               (Time, R) float64 3.0 5.0 6.0 31.0 254.0 447.0 521.0 ...\n",
       "    dn_e              (Time, R) float64 1.0 1.0 1.0 4.0 10.0 14.0 15.0 7.0 ...\n",
       "    laser             (Time, R) float64 1.582e+03 1.582e+03 1.582e+03 ...\n",
       "    lasernumber       (Time, R) float64 5.0 5.0 5.0 5.0 5.0 5.0 5.0 5.0 5.0 ...\n",
       "    reff              (Time, R) float64 -0.7308 -0.7236 -0.7166 -0.709 ...\n",
       "    a99               (Time, R) float64 0.0 0.0 0.0 0.0 0.0 0.0 0.0 0.0 0.0 ...\n",
       "    p0                (Time, R) float64 0.0 0.0 0.0 0.0 0.0 0.0 0.0 0.0 0.0 ...\n",
       "    pf                (Time, R) float64 1.41 1.41 1.41 1.41 1.41 1.41 1.41 ...\n",
       "    ip                (Time, R) float64 -0.0 -0.0 -0.0 -0.0 -0.0 -0.0 -0.0 ...\n",
       "    ipf               (Time, R) float64 2.0 2.0 2.0 2.0 2.0 2.0 2.0 2.0 2.0 ...\n",
       "    nl_thomson_mid    (Time, R) float64 0.0 0.0 0.0 0.0 0.0 0.0 0.0 0.0 0.0 ...\n",
       "    nl_mmw_mid        (Time, R) float64 0.0133 0.0133 0.0133 0.0133 0.0133 ...\n",
       "    nl_thomson_3669   (Time, R) float64 0.0 0.0 0.0 0.0 0.0 0.0 0.0 0.0 0.0 ...\n",
       "    nl_fir_3669       (Time, R) float64 0.004142 0.004142 0.004142 0.004142 ...\n",
       "    nl_thomson_3579   (Time, R) float64 0.0 0.0 0.0 0.0 0.0 0.0 0.0 0.0 0.0 ...\n",
       "    nl_fir_3579       (Time, R) float64 0.003313 0.003313 0.003313 0.003313 ...\n",
       "    nl_thomson_3759   (Time, R) float64 0.0 0.0 0.0 0.0 0.0 0.0 0.0 0.0 0.0 ...\n",
       "    nl_fir_3759       (Time, R) float64 9.116 9.116 9.116 9.116 9.116 9.116 ...\n",
       "    nl_thomson_3849   (Time, R) float64 0.0 0.0 0.0 0.0 0.0 0.0 0.0 0.0 0.0 ...\n",
       "    nl_fir_3849       (Time, R) float64 -0.0008222 -0.0008222 -0.0008222 ...\n",
       "    nl_thomson_3939   (Time, R) float64 0.0 0.0 0.0 0.0 0.0 0.0 0.0 0.0 0.0 ...\n",
       "    nl_fir_3939       (Time, R) float64 9.076 9.076 9.076 9.076 9.076 9.076 ...\n",
       "    chi               (Time, R) float64 1e+04 1e+04 1e+04 1e+04 1e+04 1e+04 ...\n",
       "    Wpe               (Time, R) float64 0.0 0.0 0.0 0.0 0.0 0.0 0.0 0.0 0.0 ...\n",
       "    dVdreff           (Time, R) float64 191.3 185.2 179.1 173.0 167.3 161.5 ...\n",
       "    geom_center       (Time, R) float64 3.721 3.721 3.721 3.721 3.721 3.721 ...\n",
       "    Rax_vmec          (Time, R) float64 3.635 3.635 3.635 3.635 3.635 3.635 ...\n",
       "    Te_median_smooth  (Time, R) float64 0.0 0.0 0.0 0.0 0.0 0.0 0.0 0.0 0.0 ...\n",
       "    ne_median_smooth  (Time, R) float64 0.0 0.0 0.0 0.0 0.0 0.0 0.0 0.0 0.0 ...\n",
       "    mask              (Time, R) float64 1.0 1.0 1.0 1.0 1.0 1.0 1.0 1.0 1.0 ...\n",
       "    phi               (Time, R) float64 -4.298 -4.214 -4.13 -4.046 -3.965 ...\n",
       "Attributes:\n",
       "    NAME: TSMAP\n",
       "    ShotNo: 120724\n",
       "    Date: 01/05/201510:29\n",
       "    comments: OrderedDict([('Bt', '2.75'), ('Rax', '3.6'), ('Bq', '100'), ('Gamma', '1.2538'), ('phiedge', '-3.26342'), ('avac', '0.637'), ('ExpDate', '2013-11-06 16:56:17+09'), ('Cycle', '17'), ('nel_fir_min', '0.093'), ('t1', '3.033'), ('t2', '7.233'), ('density (ne) is only for very rough information', '# density (ne) is only for very rough information'), ('Do not use data for ne_bar < 5*1-^12cm-3', '# Do not use data for ne_bar < 5*1-^12cm-3'), ('High Voltage is set at 0.90 times', '# High Voltage is s..."
      ]
     },
     "execution_count": 7,
     "metadata": {},
     "output_type": "execute_result"
    }
   ],
   "source": [
    "tsmap"
   ]
  },
  {
   "cell_type": "code",
   "execution_count": 8,
   "metadata": {
    "collapsed": false
   },
   "outputs": [],
   "source": [
    "# remove file\n",
    "import os\n",
    "os.remove(tsmap_filename)"
   ]
  },
  {
   "cell_type": "markdown",
   "metadata": {},
   "source": [
    "# Note\n",
    "\n",
    "For the more detail of PyLHD.eg, see eg.ipynb."
   ]
  },
  {
   "cell_type": "code",
   "execution_count": null,
   "metadata": {
    "collapsed": true
   },
   "outputs": [],
   "source": []
  }
 ],
 "metadata": {
  "kernelspec": {
   "display_name": "Python 3",
   "language": "python",
   "name": "python3"
  },
  "language_info": {
   "codemirror_mode": {
    "name": "ipython",
    "version": 3
   },
   "file_extension": ".py",
   "mimetype": "text/x-python",
   "name": "python",
   "nbconvert_exporter": "python",
   "pygments_lexer": "ipython3",
   "version": "3.5.2"
  },
  "toc": {
   "toc_cell": false,
   "toc_number_sections": true,
   "toc_threshold": 6,
   "toc_window_display": false
  }
 },
 "nbformat": 4,
 "nbformat_minor": 0
}
