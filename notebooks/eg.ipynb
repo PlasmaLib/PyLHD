{
 "cells": [
  {
   "cell_type": "markdown",
   "metadata": {},
   "source": [
    "# Note\n",
    "\n",
    "In this notebook, I show how to use eg.py."
   ]
  },
  {
   "cell_type": "markdown",
   "metadata": {},
   "source": [
    "# Importing some libraries"
   ]
  },
  {
   "cell_type": "code",
   "execution_count": 1,
   "metadata": {
    "collapsed": true
   },
   "outputs": [],
   "source": [
    "import numpy as np\n",
    "%matplotlib inline\n",
    "import matplotlib.pyplot as plt"
   ]
  },
  {
   "cell_type": "code",
   "execution_count": 2,
   "metadata": {
    "collapsed": false
   },
   "outputs": [],
   "source": [
    "import PyLHD"
   ]
  },
  {
   "cell_type": "markdown",
   "metadata": {},
   "source": [
    "# Downloading analyzed file"
   ]
  },
  {
   "cell_type": "code",
   "execution_count": 3,
   "metadata": {
    "collapsed": false
   },
   "outputs": [
    {
     "name": "stdout",
     "output_type": "stream",
     "text": [
      "data/tsmap/120000/120724/000001/tsmap@120724.dat.zip\n",
      "tsmap@120724.dat.zip\n"
     ]
    }
   ],
   "source": [
    "# define some variables\n",
    "shotnum = 120724 # shotnumber\n",
    "diag = 'tsmap'   # diagname\n",
    "filename = 'tsmap.dat' # local filename \n",
    "\n",
    "# downloading file\n",
    "ts_filename = PyLHD.igetfile.igetfile(diag, shotnum, 1, filename)"
   ]
  },
  {
   "cell_type": "code",
   "execution_count": 4,
   "metadata": {
    "collapsed": false
   },
   "outputs": [
    {
     "name": "stdout",
     "output_type": "stream",
     "text": [
      "tsmap.dat\n"
     ]
    }
   ],
   "source": [
    "print(ts_filename)"
   ]
  },
  {
   "cell_type": "markdown",
   "metadata": {},
   "source": [
    "# Reading the downloaded file"
   ]
  },
  {
   "cell_type": "code",
   "execution_count": 5,
   "metadata": {
    "collapsed": false
   },
   "outputs": [],
   "source": [
    "# actual download\n",
    "tsdata = PyLHD.eg.load(ts_filename)"
   ]
  },
  {
   "cell_type": "markdown",
   "metadata": {
    "collapsed": true
   },
   "source": [
    "# Members of eg_data"
   ]
  },
  {
   "cell_type": "code",
   "execution_count": 6,
   "metadata": {
    "collapsed": false
   },
   "outputs": [
    {
     "name": "stdout",
     "output_type": "stream",
     "text": [
      "odict_keys(['Time', 'R'])\n",
      "['s', 'm']\n"
     ]
    }
   ],
   "source": [
    "# dimension of the data.\n",
    "print(tsdata.dim.keys())\n",
    "# units of the dimension.\n",
    "print(tsdata.DimUnit)"
   ]
  },
  {
   "cell_type": "code",
   "execution_count": 7,
   "metadata": {
    "collapsed": false
   },
   "outputs": [
    {
     "name": "stdout",
     "output_type": "stream",
     "text": [
      "odict_keys(['Te', 'dTe', 'n_e', 'dn_e', 'laser', 'lasernumber', 'reff', 'a99', 'p0', 'pf', 'ip', 'ipf', 'nl_thomson_mid', 'nl_mmw_mid', 'nl_thomson_3669', 'nl_fir_3669', 'nl_thomson_3579', 'nl_fir_3579', 'nl_thomson_3759', 'nl_fir_3759', 'nl_thomson_3849', 'nl_fir_3849', 'nl_thomson_3939', 'nl_fir_3939', 'chi', 'Wpe', 'dVdreff', 'geom_center', 'Rax_vmec', 'Te_median_smooth', 'ne_median_smooth', 'mask', 'phi'])\n",
      "['keV', 'keV', 'arb', 'arb', 'arb', 'arb', 'm', 'm', '%', 'arb', 'kA/T', 'arb', 'arb', 'e19m-2', 'arb', 'e19m-2', 'arb', 'e19m-2', 'arb', 'e19m-2', 'arb', 'e19m-2', 'arb', 'e19m-2', 'arb', 'arb', 'm2', 'm', 'm', 'keV', 'arb', 'arb', 'Wb']\n"
     ]
    }
   ],
   "source": [
    "# data values corresponding to the dim.\n",
    "print(tsdata.val.keys())\n",
    "# units of the dimension.\n",
    "print(tsdata.ValUnit)"
   ]
  },
  {
   "cell_type": "code",
   "execution_count": 8,
   "metadata": {
    "collapsed": false
   },
   "outputs": [
    {
     "name": "stdout",
     "output_type": "stream",
     "text": [
      "01/05/201510:29 TSMAP 120724\n"
     ]
    }
   ],
   "source": [
    "# Other properties\n",
    "print(tsdata.Date, tsdata.NAME, tsdata.ShotNo)"
   ]
  },
  {
   "cell_type": "code",
   "execution_count": 9,
   "metadata": {
    "collapsed": false
   },
   "outputs": [
    {
     "name": "stdout",
     "output_type": "stream",
     "text": [
      "Bt 2.75\n",
      "Rax 3.6\n",
      "Bq 100\n",
      "Gamma 1.2538\n",
      "phiedge -3.26342\n",
      "avac 0.637\n",
      "ExpDate 2013-11-06 16:56:17+09\n",
      "Cycle 17\n",
      "nel_fir_min 0.093\n",
      "t1 3.033\n",
      "t2 7.233\n",
      "density (ne) is only for very rough information # density (ne) is only for very rough information\n",
      "Do not use data for ne_bar < 5*1-^12cm-3 # Do not use data for ne_bar < 5*1-^12cm-3\n",
      "High Voltage is set at 0.90 times # High Voltage is set at 0.90 times\n",
      "Te limit 22keV\n",
      "Laser#1, #3, #5, # Laser#1, #3, #5,\n",
      " #\n"
     ]
    }
   ],
   "source": [
    "# comments\n",
    "for key, item in tsdata.comments.items():\n",
    "    print(key, item)"
   ]
  },
  {
   "cell_type": "markdown",
   "metadata": {},
   "source": [
    "# To access the data\n",
    "\n",
    "eg.dim and eg.val are OrderedDict.\n",
    "\n",
    "To access 'Time' axis, tsdata.dim['Time'] can be used."
   ]
  },
  {
   "cell_type": "code",
   "execution_count": 10,
   "metadata": {
    "collapsed": false
   },
   "outputs": [
    {
     "name": "stdout",
     "output_type": "stream",
     "text": [
      "[ 0.     0.033  0.066  0.1    0.133  0.166  0.2    0.233  0.266  0.3    0.333\n",
      "  0.366  0.4    0.433  0.466  0.5    0.533  0.566  0.6    0.633  0.666  0.7\n",
      "  0.733  0.766  0.8    0.833  0.866  0.9    0.933  0.966  1.     1.033\n",
      "  1.066  1.1    1.133  1.166  1.2    1.233  1.266  1.3    1.333  1.366  1.4\n",
      "  1.433  1.466  1.5    1.533  1.566  1.6    1.633  1.666  1.7    1.733\n",
      "  1.766  1.8    1.833  1.866  1.9    1.933  1.966  2.     2.033  2.066  2.1\n",
      "  2.133  2.166  2.2    2.233  2.266  2.3    2.333  2.366  2.4    2.433\n",
      "  2.466  2.5    2.533  2.566  2.6    2.633  2.666  2.7    2.733  2.766  2.8\n",
      "  2.833  2.866  2.9    2.933  2.966  3.     3.033  3.066  3.1    3.133\n",
      "  3.166  3.2    3.233  3.266  3.3    3.333  3.366  3.4    3.433  3.466  3.5\n",
      "  3.533  3.566  3.6    3.633  3.666  3.7    3.733  3.766  3.8    3.833\n",
      "  3.866  3.9    3.933  3.966  4.     4.033  4.066  4.1    4.133  4.166  4.2\n",
      "  4.233  4.266  4.3    4.333  4.366  4.4    4.433  4.466  4.5    4.533\n",
      "  4.566  4.6    4.633  4.666  4.7    4.733  4.766  4.8    4.833  4.866  4.9\n",
      "  4.933  4.966  5.     5.033  5.066  5.1    5.133  5.166  5.2    5.233\n",
      "  5.266  5.3    5.333  5.366  5.4    5.433  5.466  5.5    5.533  5.566  5.6\n",
      "  5.633  5.666  5.7    5.733  5.766  5.8    5.833  5.866  5.9    5.933\n",
      "  5.966  6.     6.033  6.066  6.1    6.133  6.166  6.2    6.233  6.266  6.3\n",
      "  6.333  6.366  6.4    6.433  6.466  6.5    6.533  6.566  6.6    6.633\n",
      "  6.666  6.7    6.733  6.766  6.8    6.833  6.866  6.9    6.933  6.966  7.\n",
      "  7.033  7.066  7.1    7.133  7.166  7.2    7.233  7.266  7.3    7.333\n",
      "  7.366  7.4    7.433  7.466  7.5    7.533  7.566  7.6    7.633  7.666  7.7\n",
      "  7.733  7.766  7.8    7.833  7.866  7.9    7.933  7.966  8.     8.033\n",
      "  8.066  8.1    8.133  8.166  8.2    8.233  8.266  8.3    8.333  8.366  8.4\n",
      "  8.433  8.466  8.5    8.533  8.566  8.6    8.633  8.666  8.7    8.733\n",
      "  8.766  8.8    8.833  8.866  8.9    8.933  8.966  9.     9.033  9.066  9.1\n",
      "  9.133  9.166  9.2    9.233  9.266  9.3    9.333  9.366  9.4    9.433\n",
      "  9.466  9.5    9.533  9.566  9.6    9.633  9.666  9.7    9.733  9.766  9.8\n",
      "  9.833  9.866  9.9    9.933  9.966]\n"
     ]
    }
   ],
   "source": [
    "# To access dim and val\n",
    "print(tsdata.dim['Time'])"
   ]
  },
  {
   "cell_type": "code",
   "execution_count": 11,
   "metadata": {
    "collapsed": false
   },
   "outputs": [
    {
     "data": {
      "text/plain": [
       "(300, 140)"
      ]
     },
     "execution_count": 11,
     "metadata": {},
     "output_type": "execute_result"
    }
   ],
   "source": [
    "# val is also an ordereddict, whose element is np.array\n",
    "tsdata.val['Te'].shape"
   ]
  },
  {
   "cell_type": "code",
   "execution_count": 12,
   "metadata": {
    "collapsed": false
   },
   "outputs": [
    {
     "data": {
      "text/plain": [
       "<matplotlib.text.Text at 0x7f01ba0fdb38>"
      ]
     },
     "execution_count": 12,
     "metadata": {},
     "output_type": "execute_result"
    },
    {
     "data": {
      "image/png": "[encoded data removed]",
      "text/plain": [
       "<matplotlib.figure.Figure at 0x7f01b9e8c5f8>"
      ]
     },
     "metadata": {},
     "output_type": "display_data"
    }
   ],
   "source": [
    "# Example of data\n",
    "plt.plot(tsdata.dim['R'], tsdata.val['Te'][100,:])\n",
    "plt.title('Te value at t = '+str(tsdata.dim['Time'][100]) + ' s')"
   ]
  },
  {
   "cell_type": "code",
   "execution_count": null,
   "metadata": {
    "collapsed": true
   },
   "outputs": [],
   "source": []
  }
 ],
 "metadata": {
  "kernelspec": {
   "display_name": "Python [Root]",
   "language": "python",
   "name": "Python [Root]"
  },
  "language_info": {
   "codemirror_mode": {
    "name": "ipython",
    "version": 3
   },
   "file_extension": ".py",
   "mimetype": "text/x-python",
   "name": "python",
   "nbconvert_exporter": "python",
   "pygments_lexer": "ipython3",
   "version": "3.5.2"
  },
  "toc": {
   "toc_cell": false,
   "toc_number_sections": true,
   "toc_threshold": 6,
   "toc_window_display": false
  }
 },
 "nbformat": 4,
 "nbformat_minor": 0
}
