{
 "cells": [
  {
   "cell_type": "code",
   "execution_count": 1,
   "metadata": {
    "collapsed": false
   },
   "outputs": [],
   "source": [
    "from matplotlib import pyplot as plt\n",
    "%matplotlib inline\n",
    "import numpy as np\n",
    "import pickle"
   ]
  },
  {
   "cell_type": "code",
   "execution_count": 2,
   "metadata": {
    "collapsed": true
   },
   "outputs": [],
   "source": [
    "dischNum='127531'\n",
    "framenum=160"
   ]
  },
  {
   "cell_type": "code",
   "execution_count": 3,
   "metadata": {
    "collapsed": false
   },
   "outputs": [],
   "source": [
    "data=np.fromfile('data/'+dischNum+'.dat',np.uint32)"
   ]
  },
  {
   "cell_type": "code",
   "execution_count": 4,
   "metadata": {
    "collapsed": false
   },
   "outputs": [],
   "source": [
    "wavelength36 = np.loadtxt(\"data/wavelength36.txt\", comments=\"fit36_2\")\n",
    "calibrationFactor = np.loadtxt(\"data/CalibrationFactor.txt\", comments=\"CalFactor_2\")"
   ]
  },
  {
   "cell_type": "code",
   "execution_count": 5,
   "metadata": {
    "collapsed": false
   },
   "outputs": [],
   "source": [
    "data3 = [[[0 for d3 in range(int(len(data)/2048/52))] for d2 in range(52)] for d1 in range(2048)]"
   ]
  },
  {
   "cell_type": "code",
   "execution_count": 6,
   "metadata": {
    "collapsed": false
   },
   "outputs": [],
   "source": [
    "for k in range(int(len(data)/2048/52)):\n",
    "    for j in range(52):\n",
    "        for i in range(2048):\n",
    "            data3[i][j][k] = data[i+2048*j+2048*52*k]    "
   ]
  },
  {
   "cell_type": "code",
   "execution_count": 7,
   "metadata": {
    "collapsed": true
   },
   "outputs": [],
   "source": [
    "binNum=27\n",
    "##ここはわからん"
   ]
  },
  {
   "cell_type": "code",
   "execution_count": 8,
   "metadata": {
    "collapsed": true
   },
   "outputs": [],
   "source": [
    "exposureTime = 0.001\n",
    "transmittanceWindow=0.92\n",
    "coefQe=0.47\n",
    "readOutNoise=1.2"
   ]
  },
  {
   "cell_type": "code",
   "execution_count": 9,
   "metadata": {
    "collapsed": false
   },
   "outputs": [],
   "source": [
    "data2 = [[0 for d2 in range(52)] for d1 in range(2048)]\n",
    "\n",
    "for j in range(52):\n",
    "    for i in range(2048):\n",
    "        data2[i][j] = data[i+2048*j+2048*52*framenum]"
   ]
  },
  {
   "cell_type": "code",
   "execution_count": 10,
   "metadata": {
    "collapsed": false
   },
   "outputs": [],
   "source": [
    "data4 = [[0 for d2 in range(36)] for d1 in range(2048)]\n",
    "\n",
    "for i in range(2048):\n",
    "    # L port\n",
    "    data4[i][0] = data2[i][22]-(1*data2[i][19]+3*data2[i][23])/4\n",
    "    data4[i][1] = data2[i][9]-(1*data2[i][6]+3*data2[i][10])/4\n",
    "    data4[i][2] = data2[i][21]-(2*data2[i][19]+2*data2[i][23])/4\n",
    "    data4[i][3] = data2[i][8]-(2*data2[i][6]+2*data2[i][10])/4\n",
    "    data4[i][4] = data2[i][20]-(3*data2[i][19]+1*data2[i][23])/4\n",
    "    data4[i][5] = data2[i][7]-(3*data2[i][6]+1*data2[i][10])/4\n",
    "    data4[i][6] = data2[i][18]-(1*data2[i][16]+2*data2[i][19])/3\n",
    "    data4[i][7] = data2[i][5]-(1*data2[i][3]+2*data2[i][6])/3\n",
    "    data4[i][8] = data2[i][17]-(2*data2[i][16]+1*data2[i][19])/3\n",
    "    data4[i][9] = data2[i][4]-(2*data2[i][3]+1*data2[i][6])/3\n",
    "    data4[i][10] = data2[i][15]-(1*data2[i][13]+2*data2[i][16])/3\n",
    "    data4[i][11] = data2[i][2]-(1*data2[i][0]+2*data2[i][3])/3\n",
    "    data4[i][12] = data2[i][14]-(2*data2[i][13]+1*data2[i][16])/3\n",
    "    data4[i][13] = data2[i][1]-(2*data2[i][0]+1*data2[i][3])/3\n",
    "    # O port\n",
    "    data4[i][14] = data2[i][50]-(1*data2[i][48]+2*data2[i][51])/3\n",
    "    data4[i][15] = data2[i][37]-(1*data2[i][35]+2*data2[i][38])/3\n",
    "    data4[i][16] = data2[i][49]-(2*data2[i][48]+1*data2[i][51])/3\n",
    "    data4[i][17] = data2[i][36]-(2*data2[i][35]+1*data2[i][38])/3\n",
    "    data4[i][18] = data2[i][47]-(1*data2[i][45]+2*data2[i][48])/3\n",
    "    data4[i][19] = data2[i][34]-(1*data2[i][32]+2*data2[i][35])/3\n",
    "    data4[i][20] = data2[i][46]-(2*data2[i][45]+1*data2[i][48])/3\n",
    "    data4[i][21] = data2[i][33]-(2*data2[i][32]+1*data2[i][35])/3\n",
    "    data4[i][22] = data2[i][44]-(1*data2[i][41]+3*data2[i][45])/4\n",
    "    data4[i][23] = data2[i][31]-(1*data2[i][28]+3*data2[i][32])/4\n",
    "    data4[i][24] = data2[i][43]-(2*data2[i][41]+2*data2[i][45])/4\n",
    "    data4[i][25] = data2[i][30]-(2*data2[i][28]+2*data2[i][32])/4\n",
    "    data4[i][26] = data2[i][42]-(3*data2[i][41]+1*data2[i][45])/4\n",
    "    data4[i][27] = data2[i][29]-(3*data2[i][28]+1*data2[i][32])/4\n",
    "    data4[i][28] = data2[i][40]-(1*data2[i][38]+2*data2[i][41])/3\n",
    "    data4[i][29] = data2[i][27]-(1*data2[i][23]+4*data2[i][28])/5\n",
    "    data4[i][30] = data2[i][39]-(2*data2[i][38]+1*data2[i][41])/3\n",
    "    data4[i][31] = data2[i][26]-(2*data2[i][23]+3*data2[i][28])/5\n",
    "    data4[i][32] = data2[i][25]-(3*data2[i][23]+2*data2[i][28])/5\n",
    "    data4[i][33] = data2[i][12]-(1*data2[i][10]+2*data2[i][13])/3\n",
    "    data4[i][34] = data2[i][24]-(4*data2[i][23]+1*data2[i][28])/5\n",
    "    data4[i][35] = data2[i][11]-(2*data2[i][10]+1*data2[i][13])/3"
   ]
  },
  {
   "cell_type": "code",
   "execution_count": 11,
   "metadata": {
    "collapsed": true
   },
   "outputs": [],
   "source": [
    "spectrum36 = [[0 for d2 in range(36)] for d1 in range(2048)]\n",
    "\n",
    "for j in range(36):\n",
    "    for i in range(2048):\n",
    "        spectrum36[i][j] = data4[i][j] * calibrationFactor[i][j] / exposureTime / transmittanceWindow"
   ]
  },
  {
   "cell_type": "code",
   "execution_count": 12,
   "metadata": {
    "collapsed": false
   },
   "outputs": [],
   "source": [
    "sigma36 = [[0 for d2 in range(36)] for d1 in range(2048)]\n",
    "\n",
    "for j in range(36):\n",
    "    for i in range(2048):\n",
    "        sigma36[i][j] = readOutNoise*readOutNoise*binNum*2\n",
    "        if data4[i][j] > 0:\n",
    "            sigma36[i][j] += data4[i][j]*coefQe\n",
    "        sigma36[i][j] = np.sqrt(sigma36[i][j]) * calibrationFactor[i][j] / exposureTime / coefQe /transmittanceWindow"
   ]
  },
  {
   "cell_type": "code",
   "execution_count": 13,
   "metadata": {
    "collapsed": false
   },
   "outputs": [],
   "source": [
    "f=open(\"data/d\"+dischNum+\"_f\"+str(framenum)+\"_spec\",\"wb\")\n",
    "pickle.dump(spectrum36,f)\n",
    "f.close()\n",
    "\n",
    "f=open(\"data/d\"+dischNum+\"_f\"+str(framenum)+\"_sigma\",\"wb\")\n",
    "pickle.dump(sigma36,f)\n",
    "f.close()"
   ]
  },
  {
   "cell_type": "code",
   "execution_count": null,
   "metadata": {
    "collapsed": true
   },
   "outputs": [],
   "source": []
  },
  {
   "cell_type": "code",
   "execution_count": null,
   "metadata": {
    "collapsed": true
   },
   "outputs": [],
   "source": []
  },
  {
   "cell_type": "markdown",
   "metadata": {},
   "source": [
    "# ika huyou"
   ]
  },
  {
   "cell_type": "code",
   "execution_count": 14,
   "metadata": {
    "collapsed": false
   },
   "outputs": [
    {
     "data": {
      "text/plain": [
       "(0.01, 100)"
      ]
     },
     "execution_count": 14,
     "metadata": {},
     "output_type": "execute_result"
    },
    {
     "data": {
      "image/png": "[encoded data removed]",
      "text/plain": [
       "<matplotlib.figure.Figure at 0x7fdbdd6b1518>"
      ]
     },
     "metadata": {},
     "output_type": "display_data"
    }
   ],
   "source": [
    "dischNum_1 = '127531'\n",
    "framenum_1 = 160\n",
    "LOSnum_1 =\"11\"\n",
    "\n",
    "dischNum_2 = '127532'\n",
    "framenum_2 = 160\n",
    "LOSnum_2 =\"11\"\n",
    "\n",
    "wavelength36 = np.loadtxt(\"data/wavelength36.txt\", comments=\"fit36_2\")\n",
    "f=open(\"data/d\"+dischNum_1+\"_f\"+str(framenum_1)+\"_spec\",\"rb\")\n",
    "spectrum36_1=pickle.load(f)\n",
    "f.close()\n",
    "f=open(\"data/d\"+dischNum_1+\"_f\"+str(framenum_1)+\"_sigma\",\"rb\")\n",
    "sigma36_1=pickle.load(f)\n",
    "f.close()\n",
    "\n",
    "wavelength36 = np.loadtxt(\"data/wavelength36.txt\", comments=\"fit36_2\")\n",
    "f=open(\"data/d\"+dischNum_2+\"_f\"+str(framenum_2)+\"_spec\",\"rb\")\n",
    "spectrum36_2=pickle.load(f)\n",
    "f.close()\n",
    "f=open(\"data/d\"+dischNum_2+\"_f\"+str(framenum_2)+\"_sigma\",\"rb\")\n",
    "sigma36_2=pickle.load(f)\n",
    "f.close()\n",
    "\n",
    "plt.figure(figsize=(15,4))\n",
    "plt.subplot(1,2,1)\n",
    "plt.plot([wavelength36[i][int(LOSnum_1)]for i in range(2048)],[spectrum36_1[i][int(LOSnum_1)] for i in range(2048)])\n",
    "plt.yscale('log')\n",
    "plt.xlim(655.8,656.8)\n",
    "plt.ylim(0.01,100)\n",
    "plt.subplot(1,2,2)\n",
    "plt.plot([wavelength36[i][int(LOSnum_2)]for i in range(2048)],[spectrum36_2[i][int(LOSnum_2)] for i in range(2048)])\n",
    "plt.yscale('log')\n",
    "plt.xlim(655.8,656.8)\n",
    "plt.ylim(0.01,100)"
   ]
  },
  {
   "cell_type": "code",
   "execution_count": null,
   "metadata": {
    "collapsed": true
   },
   "outputs": [],
   "source": []
  }
 ],
 "metadata": {
  "anaconda-cloud": {},
  "kernelspec": {
   "display_name": "Python [Root]",
   "language": "python",
   "name": "Python [Root]"
  },
  "language_info": {
   "codemirror_mode": {
    "name": "ipython",
    "version": 3
   },
   "file_extension": ".py",
   "mimetype": "text/x-python",
   "name": "python",
   "nbconvert_exporter": "python",
   "pygments_lexer": "ipython3",
   "version": "3.5.2"
  }
 },
 "nbformat": 4,
 "nbformat_minor": 0
}
